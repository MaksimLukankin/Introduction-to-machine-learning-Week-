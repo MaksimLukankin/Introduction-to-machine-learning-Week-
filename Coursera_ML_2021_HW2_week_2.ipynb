{
 "cells": [
  {
   "cell_type": "code",
   "execution_count": 23,
   "metadata": {},
   "outputs": [],
   "source": [
    "import pandas as pd\n",
    "import numpy as np\n",
    "from sklearn.neighbors import KNeighborsClassifier\n",
    "from sklearn.model_selection import KFold\n",
    "from sklearn.model_selection import cross_val_score\n",
    "from sklearn import preprocessing\n",
    "from sklearn.datasets import load_boston\n",
    "data = load_boston()"
   ]
  },
  {
   "cell_type": "code",
   "execution_count": 24,
   "metadata": {},
   "outputs": [
    {
     "data": {
      "text/plain": [
       "array([[-0.41978194,  0.28482986, -1.2879095 , ..., -1.45900038,\n",
       "         0.44105193, -1.0755623 ],\n",
       "       [-0.41733926, -0.48772236, -0.59338101, ..., -0.30309415,\n",
       "         0.44105193, -0.49243937],\n",
       "       [-0.41734159, -0.48772236, -0.59338101, ..., -0.30309415,\n",
       "         0.39642699, -1.2087274 ],\n",
       "       ...,\n",
       "       [-0.41344658, -0.48772236,  0.11573841, ...,  1.17646583,\n",
       "         0.44105193, -0.98304761],\n",
       "       [-0.40776407, -0.48772236,  0.11573841, ...,  1.17646583,\n",
       "         0.4032249 , -0.86530163],\n",
       "       [-0.41500016, -0.48772236,  0.11573841, ...,  1.17646583,\n",
       "         0.44105193, -0.66905833]])"
      ]
     },
     "execution_count": 24,
     "metadata": {},
     "output_type": "execute_result"
    }
   ],
   "source": [
    "p = np.linspace(1.0,10.0,num=200)\n",
    "df = pd.DataFrame(data.data, columns=data.feature_names)\n",
    "df\n",
    "y = df['RAD']\n",
    "X = df.loc[:,df.columns != 'RAD']\n",
    "X = preprocessing.scale(X)\n",
    "X"
   ]
  },
  {
   "cell_type": "code",
   "execution_count": 41,
   "metadata": {},
   "outputs": [
    {
     "name": "stdout",
     "output_type": "stream",
     "text": [
      "0.7273344981556978 1.0\n"
     ]
    }
   ],
   "source": [
    "kf = KFold(n_splits=5, random_state = 42, shuffle=True)\n",
    "minx = 1000000\n",
    "mink = 0.0\n",
    "for i in p:\n",
    "    neigh = KNeighborsClassifier(n_neighbors=5, weights='distance',metric = 'minkowski', p = i)\n",
    "    neigh.fit(X, y)\n",
    "    avg = np.mean((-1)*cross_val_score(neigh, X,y, cv = kf.split(df),scoring='neg_mean_squared_error'))\n",
    "    if(minx > avg):\n",
    "        minx = avg\n",
    "        mink = i\n",
    "print(minx,mink)"
   ]
  }
 ],
 "metadata": {
  "kernelspec": {
   "display_name": "Python 3",
   "language": "python",
   "name": "python3"
  },
  "language_info": {
   "codemirror_mode": {
    "name": "ipython",
    "version": 3
   },
   "file_extension": ".py",
   "mimetype": "text/x-python",
   "name": "python",
   "nbconvert_exporter": "python",
   "pygments_lexer": "ipython3",
   "version": "3.8.3"
  }
 },
 "nbformat": 4,
 "nbformat_minor": 4
}
